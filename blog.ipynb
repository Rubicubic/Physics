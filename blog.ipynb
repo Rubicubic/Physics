{
 "cells": [
  {
   "cell_type": "markdown",
   "id": "27705d53",
   "metadata": {},
   "source": [
    "21/07/2024 14:16(UTC+8)\n",
    "\n",
    "So, what's the plan to deal with this problem?\n",
    "Wait, no one knows the detail of this problem by now. Alright, time to describe it...\n",
    "\n",
    "Considering two boxes(bodies, maybe?) and an unmovable wall(barrier, maybe?) in one ideal 1D system, where friction is negligible and collisions are perfectly elastic. In the beginning, one box lies still between the wall and the other box. The latter moves towards the wall. With the evaluation of this system, collisions will happen and finally, the two boxes will move away from the wall. Everything seems quite simple and explainable by now. However, someone (I do not know whom) proved that there is an amazing relation between the total number of collisions and the value of $\\pi$"
   ]
  },
  {
   "cell_type": "code",
   "execution_count": null,
   "id": "5075d40d",
   "metadata": {},
   "outputs": [],
   "source": []
  }
 ],
 "metadata": {
  "kernelspec": {
   "display_name": "Python 3 (ipykernel)",
   "language": "python",
   "name": "python3"
  },
  "language_info": {
   "codemirror_mode": {
    "name": "ipython",
    "version": 3
   },
   "file_extension": ".py",
   "mimetype": "text/x-python",
   "name": "python",
   "nbconvert_exporter": "python",
   "pygments_lexer": "ipython3",
   "version": "3.9.18"
  }
 },
 "nbformat": 4,
 "nbformat_minor": 5
}
